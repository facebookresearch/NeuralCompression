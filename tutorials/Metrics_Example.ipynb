{
 "cells": [
  {
   "cell_type": "markdown",
   "id": "f8506dec",
   "metadata": {},
   "source": [
    "# NeuralCompression Metrics Example\n",
    "\n",
    "## Introduction\n",
    "\n",
    "Welcome! This notebook will walkthrough using the `neuralcompression.metrics` and `torchmetrics` packages to evaluate models using rate distortion curves. "
   ]
  },
  {
   "cell_type": "markdown",
   "id": "3c78b190",
   "metadata": {},
   "source": [
    "First, if you haven't yet installed `neuralcompression`, do so below with: "
   ]
  },
  {
   "cell_type": "code",
   "execution_count": null,
   "id": "65e39feb",
   "metadata": {},
   "outputs": [],
   "source": [
    "!pip install git+https://github.com/facebookresearch/NeuralCompression/"
   ]
  },
  {
   "cell_type": "code",
   "execution_count": 1,
   "id": "3a2819bd",
   "metadata": {},
   "outputs": [
    {
     "name": "stderr",
     "output_type": "stream",
     "text": [
      "WARNING:absl:No GPU/TPU found, falling back to CPU. (Set TF_CPP_MIN_LOG_LEVEL=0 and rerun for more info.)\n"
     ]
    }
   ],
   "source": [
    "from collections import defaultdict\n",
    "import io\n",
    "\n",
    "import torch\n",
    "from torch.utils.data import DataLoader\n",
    "\n",
    "from compressai import zoo\n",
    "\n",
    "import torchmetrics as tm\n",
    "import torchmetrics.functional as tmF\n",
    "\n",
    "import neuralcompression as nc\n",
    "import neuralcompression.functional as ncF\n",
    "import neuralcompression.metrics as ncm\n",
    "\n",
    "import torchvision.transforms as tfms\n",
    "\n",
    "from tqdm import tqdm\n",
    "\n",
    "import math\n",
    "from PIL import Image\n",
    "\n",
    "import matplotlib.pyplot as plt"
   ]
  },
  {
   "cell_type": "markdown",
   "id": "4d82ff1a",
   "metadata": {},
   "source": [
    "## Finding And Using Metrics\n",
    "\n",
    "The metrics implemented in `neuralcompression.metrics` aim to complement/extend those aready in `torchmetrics`. `torchmetrics` features high-quality implementations of MSE, PSNR, FID, KID, and more (check the [package documentation](https://torchmetrics.readthedocs.io/en/latest/references/modules.html) for a complete list), and are therefore not reimplemented inside of `neuralcompression`. \n",
    "\n",
    "Most of the metrics supported in `torchmetrics` have both functional and `nn.Module`-based APIs. Module metrics add additional functionality like accumulation across batches and first-class [compatibility](https://torchmetrics.readthedocs.io/en/latest/pages/lightning.html) with PyTorch Lightning."
   ]
  },
  {
   "cell_type": "code",
   "execution_count": 2,
   "id": "9da5dda0",
   "metadata": {},
   "outputs": [],
   "source": [
    "image_shape = (1,3,256,256)\n",
    "\n",
    "image_a = torch.randn(image_shape)\n",
    "image_b = torch.randn(image_shape)"
   ]
  },
  {
   "cell_type": "code",
   "execution_count": 3,
   "id": "48c78fe8",
   "metadata": {},
   "outputs": [
    {
     "data": {
      "text/plain": [
       "(tensor(15.3505), tensor(15.3505))"
      ]
     },
     "execution_count": 3,
     "metadata": {},
     "output_type": "execute_result"
    }
   ],
   "source": [
    "psnr_metric = tm.PSNR()\n",
    "psnr_module = psnr_metric(image_a, image_b)\n",
    "psnr_functional = tmF.psnr(image_a, image_b)\n",
    "\n",
    "psnr_module, psnr_functional"
   ]
  },
  {
   "cell_type": "markdown",
   "id": "333d24c2",
   "metadata": {},
   "source": [
    "Metrics that are missing from `torchmetrics` that are otherwise important to compression, such as MS-SSIM and LPIPS, can be found in `neuralcompression`. Similar to `torchmetrics`, each metric has a functional API that can be imported from `neuralcompression.functional`, and a Module API found in `neuralcompression.metrics`."
   ]
  },
  {
   "cell_type": "code",
   "execution_count": 4,
   "id": "201b16a3",
   "metadata": {},
   "outputs": [
    {
     "data": {
      "text/plain": [
       "(tensor(0.0042), tensor(0.0042))"
      ]
     },
     "execution_count": 4,
     "metadata": {},
     "output_type": "execute_result"
    }
   ],
   "source": [
    "ms_ssim_metric = ncm.MultiscaleStructuralSimilarity()\n",
    "\n",
    "ms_ssim_module = ms_ssim_metric(image_a, image_b)\n",
    "ms_ssim_functional = ncF.multiscale_structural_similarity(image_a, image_b)\n",
    "\n",
    "ms_ssim_module, ms_ssim_functional"
   ]
  },
  {
   "cell_type": "markdown",
   "id": "a7868d67",
   "metadata": {},
   "source": [
    "Module-based metrics in `neuralcompression` are instances of `torchmetrics.Metric`, so they are fully compatible with other `torchmetrics` features, like metric collections."
   ]
  },
  {
   "cell_type": "code",
   "execution_count": 5,
   "id": "0f2ff7f2",
   "metadata": {},
   "outputs": [
    {
     "data": {
      "text/plain": [
       "{'PSNR': tensor(15.3505), 'MultiscaleStructuralSimilarity': tensor(0.0042)}"
      ]
     },
     "execution_count": 5,
     "metadata": {},
     "output_type": "execute_result"
    }
   ],
   "source": [
    "# Using metrics from both torchmetrics and neuralcompression\n",
    "collection = tm.MetricCollection(\n",
    "    psnr_metric,\n",
    "    ms_ssim_metric\n",
    ")\n",
    "\n",
    "collection(image_a, image_b)"
   ]
  },
  {
   "cell_type": "markdown",
   "id": "ec940812",
   "metadata": {},
   "source": [
    "## Calculating Rate-Distortion Curves\n",
    "\n",
    "We'll now go through an example of calculating rate-distortion curves for the [scale hyperprior model](https://arxiv.org/abs/1802.01436) on the [Kodak dataset](http://www.cs.albany.edu/~xypan/research/snr/Kodak.html), comparing it to the non-ML image codec JPEG."
   ]
  },
  {
   "cell_type": "code",
   "execution_count": 6,
   "id": "9ac1e4bf",
   "metadata": {},
   "outputs": [],
   "source": [
    "def make_jpeg_rd_curve(dataloader, metrics: tm.MetricCollection):\n",
    "        \n",
    "    rd_curve = []\n",
    "    to_PIL = tfms.ToPILImage()\n",
    "    to_tensor = tfms.ToTensor()\n",
    "    \n",
    "    for quality in tqdm(range(0, 91, 10)):\n",
    "        \n",
    "        bpp_sum = 0.0\n",
    "        metrics_sum = defaultdict(lambda: 0.0)\n",
    "        \n",
    "        for img in dataloader:\n",
    "            pil_image = to_PIL(img.squeeze(0))\n",
    "            buffer = io.BytesIO()\n",
    "            pil_image.save(buffer, format=\"JPEG\", quality=quality)\n",
    "            \n",
    "            bits = len(buffer.getvalue()) * 8\n",
    "            bpp = bits / (img.shape[2] * img.shape[3])\n",
    "            \n",
    "            bpp_sum += bpp\n",
    "            \n",
    "            reconstruction = to_tensor(Image.open(buffer, formats=[\"JPEG\"])).unsqueeze(0)\n",
    "            \n",
    "            distortions = metrics(img, reconstruction)\n",
    "            for k,v in distortions.items():\n",
    "                metrics_sum[k] += v\n",
    "        \n",
    "        average_metrics = {k: v / len(dataloader) for k,v in metrics_sum.items()}\n",
    "        average_bpp = bpp_sum / len(dataloader)\n",
    "        \n",
    "        rd_curve.append((average_bpp, average_metrics))\n",
    "    \n",
    "    return rd_curve\n",
    "\n",
    "def make_scale_hyperprior_rd_curve(dataloader, metrics: tm.MetricCollection):\n",
    "    rd_curve = []\n",
    "    to_tensor = tfms.ToTensor()\n",
    "        \n",
    "    for quality in tqdm(range(1, 9)):\n",
    "        \n",
    "        bpp_sum = 0.0\n",
    "        metrics_sum = defaultdict(lambda: 0.0)\n",
    "        \n",
    "        model = zoo.bmshj2018_hyperprior(quality=quality, pretrained=True)\n",
    "        model.eval()\n",
    "        model.update()\n",
    "        with torch.no_grad():\n",
    "            for img in dataloader:         \n",
    "                compressed = model.compress(img)\n",
    "                bits = 0.0\n",
    "                for string_list in compressed[\"strings\"]: # strings for image + hyper latent\n",
    "                    for string in string_list: # iterating over batch\n",
    "                        bits += len(string) * 8\n",
    "\n",
    "                bpp = bits / (img.shape[0] * img.shape[2] * img.shape[3])\n",
    "\n",
    "                bpp_sum += bpp\n",
    "\n",
    "                reconstruction = model.decompress(**compressed)[\"x_hat\"]\n",
    "                distortions = metrics(img, reconstruction)\n",
    "                for k,v in distortions.items():\n",
    "                    metrics_sum[k] += v\n",
    "\n",
    "            average_metrics = {k: v / len(dataloader) for k,v in metrics_sum.items()}\n",
    "            average_bpp = bpp_sum / len(dataloader)\n",
    "            rd_curve.append((average_bpp, average_metrics))\n",
    "        \n",
    "        del model\n",
    "    \n",
    "    return rd_curve"
   ]
  },
  {
   "cell_type": "code",
   "execution_count": 7,
   "id": "d1070f27",
   "metadata": {},
   "outputs": [],
   "source": [
    "# Pass download=True if dataset doesn't exist already\n",
    "ds = nc.data.Kodak(\"kodak\", transform = tfms.ToTensor())\n",
    "dl = DataLoader(ds, batch_size = 1)\n",
    "metrics = tm.MetricCollection(\n",
    "    tm.PSNR(), \n",
    "    tm.MeanSquaredError(), \n",
    "    ncm.MultiscaleStructuralSimilarity()\n",
    ")"
   ]
  },
  {
   "cell_type": "code",
   "execution_count": 8,
   "id": "3835c509",
   "metadata": {},
   "outputs": [
    {
     "name": "stderr",
     "output_type": "stream",
     "text": [
      "100%|██████████| 10/10 [01:30<00:00,  9.03s/it]\n"
     ]
    }
   ],
   "source": [
    "jpeg_curve = make_jpeg_rd_curve(dl, metrics)"
   ]
  },
  {
   "cell_type": "code",
   "execution_count": 9,
   "id": "a109e7e1",
   "metadata": {
    "scrolled": true
   },
   "outputs": [
    {
     "name": "stderr",
     "output_type": "stream",
     "text": [
      "100%|██████████| 8/8 [03:27<00:00, 25.95s/it]\n"
     ]
    }
   ],
   "source": [
    "shp_curve = make_scale_hyperprior_rd_curve(dl, metrics)"
   ]
  },
  {
   "cell_type": "markdown",
   "id": "2f83262f",
   "metadata": {},
   "source": [
    "## Plotting the Results"
   ]
  },
  {
   "cell_type": "code",
   "execution_count": 10,
   "id": "cf0380a7",
   "metadata": {},
   "outputs": [],
   "source": [
    "def plot_rd_curve(names_to_rd_curves, metric_name, y_label = None, y_transform = None):       \n",
    "    plot = plt.axes()\n",
    "\n",
    "    plot.set_title(f\"{metric_name} vs bits-per-pixel\")\n",
    "    plot.set_xlabel(\"bits per pixel\")\n",
    "    \n",
    "    if y_label is None:\n",
    "        plot.set_ylabel(metric_name)\n",
    "    else:\n",
    "        plot.set_ylabel(y_label)\n",
    "        \n",
    "    for codec_name, curve in names_to_rd_curves.items():\n",
    "        x_data = [data[0] for data in curve]\n",
    "        y_data = [data[1][metric_name] for data in curve]\n",
    "            \n",
    "        if y_transform is not None:\n",
    "            y_data = [y_transform(y) for y in y_data]\n",
    "        \n",
    "        line, = plot.plot(x_data, y_data)\n",
    "        line.set_label(codec_name)\n",
    "\n",
    "    plot.grid()\n",
    "    plot.legend()\n",
    "    \n",
    "    return plot"
   ]
  },
  {
   "cell_type": "code",
   "execution_count": 11,
   "id": "3c6da35c",
   "metadata": {},
   "outputs": [],
   "source": [
    "curve_dict = {\"JPEG\": jpeg_curve, \"Scale Hyperprior\": shp_curve}"
   ]
  },
  {
   "cell_type": "code",
   "execution_count": 12,
   "id": "d0ae0b0e",
   "metadata": {},
   "outputs": [
    {
     "data": {
      "text/plain": [
       "<AxesSubplot:title={'center':'PSNR vs bits-per-pixel'}, xlabel='bits per pixel', ylabel='PSNR'>"
      ]
     },
     "execution_count": 12,
     "metadata": {},
     "output_type": "execute_result"
    },
    {
     "data": {
      "image/png": "[encoded data removed]",
      "text/plain": [
       "<Figure size 432x288 with 1 Axes>"
      ]
     },
     "metadata": {
      "needs_background": "light"
     },
     "output_type": "display_data"
    }
   ],
   "source": [
    "plot_rd_curve(curve_dict, \"PSNR\")"
   ]
  },
  {
   "cell_type": "code",
   "execution_count": 13,
   "id": "5ba8df48",
   "metadata": {},
   "outputs": [
    {
     "data": {
      "text/plain": [
       "<AxesSubplot:title={'center':'MeanSquaredError vs bits-per-pixel'}, xlabel='bits per pixel', ylabel='MeanSquaredError'>"
      ]
     },
     "execution_count": 13,
     "metadata": {},
     "output_type": "execute_result"
    },
    {
     "data": {
      "image/png": "[encoded data removed]",
      "text/plain": [
       "<Figure size 432x288 with 1 Axes>"
      ]
     },
     "metadata": {
      "needs_background": "light"
     },
     "output_type": "display_data"
    }
   ],
   "source": [
    "plot_rd_curve(curve_dict, \"MeanSquaredError\")"
   ]
  },
  {
   "cell_type": "code",
   "execution_count": 14,
   "id": "d97d40aa",
   "metadata": {
    "scrolled": true
   },
   "outputs": [
    {
     "data": {
      "text/plain": [
       "<AxesSubplot:title={'center':'MultiscaleStructuralSimilarity vs bits-per-pixel'}, xlabel='bits per pixel', ylabel='MS-SSIM (dB)'>"
      ]
     },
     "execution_count": 14,
     "metadata": {},
     "output_type": "execute_result"
    },
    {
     "data": {
      "image/png": "[encoded data removed]",
      "text/plain": [
       "<Figure size 432x288 with 1 Axes>"
      ]
     },
     "metadata": {
      "needs_background": "light"
     },
     "output_type": "display_data"
    }
   ],
   "source": [
    "# Plotting MS-SSIM in dB as is done in the Scale Hyperprior paper.\n",
    "plot_rd_curve(\n",
    "    curve_dict, \n",
    "    \"MultiscaleStructuralSimilarity\", \n",
    "    y_transform = lambda d: -10*math.log10(1 - d), \n",
    "    y_label = \"MS-SSIM (dB)\"\n",
    ")"
   ]
  },
  {
   "cell_type": "markdown",
   "id": "abd0f51e",
   "metadata": {},
   "source": [
    "# Conclusion"
   ]
  },
  {
   "cell_type": "markdown",
   "id": "7aa9466e",
   "metadata": {},
   "source": [
    "Check out the [torchmetrics documentation](https://torchmetrics.readthedocs.io/en/latest/) for more details on metric features like syncing state across processes and compatability with PyTorch Lightning."
   ]
  },
  {
   "cell_type": "code",
   "execution_count": null,
   "id": "ba4e3924",
   "metadata": {},
   "outputs": [],
   "source": []
  }
 ],
 "metadata": {
  "kernelspec": {
   "display_name": "Python 3",
   "language": "python",
   "name": "python3"
  },
  "language_info": {
   "codemirror_mode": {
    "name": "ipython",
    "version": 3
   },
   "file_extension": ".py",
   "mimetype": "text/x-python",
   "name": "python",
   "nbconvert_exporter": "python",
   "pygments_lexer": "ipython3",
   "version": "3.7.10"
  }
 },
 "nbformat": 4,
 "nbformat_minor": 5
}
